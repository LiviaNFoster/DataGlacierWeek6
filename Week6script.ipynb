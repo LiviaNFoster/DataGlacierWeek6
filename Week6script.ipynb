{
 "cells": [
  {
   "cell_type": "code",
   "execution_count": 3,
   "id": "68f72f31",
   "metadata": {},
   "outputs": [],
   "source": [
    "## import programs\n",
    "import pandas as pd \n",
    "import os\n",
    "import time\n",
    "from dask import dataframe as dd\n",
    "import modin.pandas as mpd\n",
    "import ray\n",
    "import ray.util\n",
    "\n",
    "import logging\n",
    "import subprocess\n",
    "import yaml\n",
    "import datetime\n",
    "import gc\n",
    "import re\n",
    "import csv\n",
    "import gzip"
   ]
  },
  {
   "cell_type": "code",
   "execution_count": 4,
   "id": "410c9f75",
   "metadata": {},
   "outputs": [
    {
     "data": {
      "text/plain": [
       "2959413472"
      ]
     },
     "execution_count": 4,
     "metadata": {},
     "output_type": "execute_result"
    }
   ],
   "source": [
    "## confirm size of file is over 2GB\n",
    "# data used for project had be cleaned and scaled down to be usable (file was originally over 8GB and contained emojis)\n",
    "os.path.getsize('/Users/Olivia/Desktop/Validation/reviews.csv')"
   ]
  },
  {
   "cell_type": "code",
   "execution_count": 93,
   "id": "ef07138d",
   "metadata": {},
   "outputs": [
    {
     "name": "stdout",
     "output_type": "stream",
     "text": [
      "Number of rows:  15000000\n",
      "Number of columns:  21\n"
     ]
    }
   ],
   "source": [
    "# confirmed, yes the file is over 2GB\n",
    "\n",
    "raw = pd.read_csv('/Users/Olivia/Desktop/Validation/reviews.csv')\n",
    "\n",
    "print( \"Number of rows: \", len(raw.index))\n",
    "print(\"Number of columns: \", len(raw. columns))"
   ]
  },
  {
   "cell_type": "code",
   "execution_count": 6,
   "id": "8dbc67ab",
   "metadata": {},
   "outputs": [
    {
     "name": "stdout",
     "output_type": "stream",
     "text": [
      "Dask CSV read time:  0.07350301742553711 seconds\n"
     ]
    }
   ],
   "source": [
    "## Method 1: Dask\n",
    "start = time.time()\n",
    "dask_df = dd.read_csv('/Users/Olivia/Desktop/Validation/reviews.csv')\n",
    "end = time.time()\n",
    "print(\"Dask CSV read time: \", (end-start), \"seconds\")"
   ]
  },
  {
   "cell_type": "code",
   "execution_count": 7,
   "id": "0a612785",
   "metadata": {},
   "outputs": [
    {
     "name": "stdout",
     "output_type": "stream",
     "text": [
      "Pandas CSV read time:  38.95776009559631 seconds\n"
     ]
    }
   ],
   "source": [
    "## Method 2: Pandas\n",
    "start = time.time()\n",
    "pd_df = pd.read_csv('/Users/Olivia/Desktop/Validation/reviews.csv')\n",
    "end = time.time()\n",
    "print(\"Pandas CSV read time: \", (end-start), \"seconds\")"
   ]
  },
  {
   "cell_type": "code",
   "execution_count": 8,
   "id": "9a529bdd",
   "metadata": {},
   "outputs": [],
   "source": [
    "## Run time ranking so far:\n",
    "# 1) Dask\n",
    "# 2) Pandas"
   ]
  },
  {
   "cell_type": "code",
   "execution_count": 9,
   "id": "5ed5501c",
   "metadata": {},
   "outputs": [],
   "source": [
    "## Method 3: Modin and Ray\n",
    "# ray.init()\n",
    "# assert ray.is_initialized()\n",
    "# start = time.time()\n",
    "# mR_df = mpd.read_csv('/Users/Olivia/Desktop/ValidationV/reviews.csv')\n",
    "# end = time.time()\n",
    "# print(\"Modin and Ray CSV read time: \", (end-start), \"seconds\")\n",
    "\n",
    "\n",
    "# Method 3 is in comments because varying versions of ray and modin have crashed my computer 4 times\n",
    "# and even after reaching out to a few people who work in python regularly, \n",
    "# we were unable to get it to run without crashing due to my computer's age.\n",
    "# However, based on the research I did to try to fix the issue, I found that overall, Modin and Ray\n",
    "# did better than pandas but not better than dask.\n",
    "# I do apologize."
   ]
  },
  {
   "cell_type": "code",
   "execution_count": 10,
   "id": "35d9d568",
   "metadata": {},
   "outputs": [],
   "source": [
    "## Dask at 0.015 seconds has the best run time of the three methods."
   ]
  },
  {
   "cell_type": "code",
   "execution_count": 11,
   "id": "b06371bd",
   "metadata": {},
   "outputs": [
    {
     "name": "stdout",
     "output_type": "stream",
     "text": [
      "<class 'dask.dataframe.core.DataFrame'>\n",
      "Columns: 21 entries, app_id to author.last_played\n",
      "dtypes: object(2), bool(4), float64(5), int64(10)"
     ]
    }
   ],
   "source": [
    "df = dd.read_csv('/Users/Olivia/Desktop/Validation/reviews.csv')\n",
    "df.info()"
   ]
  },
  {
   "cell_type": "code",
   "execution_count": 12,
   "id": "80e17c4b",
   "metadata": {},
   "outputs": [
    {
     "data": {
      "text/plain": [
       "Index(['app_id', 'app_name', 'review_id', 'language', 'timestamp_created',\n",
       "       'timestamp_updated', 'recommended', 'votes_helpful', 'votes_funny',\n",
       "       'weighted_vote_score', 'comment_count', 'steam_purchase',\n",
       "       'received_for_free', 'written_during_early_access', 'author.steamid',\n",
       "       'author.num_games_owned', 'author.num_reviews',\n",
       "       'author.playtime_forever', 'author.playtime_last_two_weeks',\n",
       "       'author.playtime_at_review', 'author.last_played'],\n",
       "      dtype='object')"
      ]
     },
     "execution_count": 12,
     "metadata": {},
     "output_type": "execute_result"
    }
   ],
   "source": [
    "col_name = df.columns\n",
    "col_name"
   ]
  },
  {
   "cell_type": "code",
   "execution_count": 13,
   "id": "a7402550",
   "metadata": {},
   "outputs": [
    {
     "name": "stderr",
     "output_type": "stream",
     "text": [
      "FutureWarning: The default value of regex will change from True to False in a future version.\n"
     ]
    }
   ],
   "source": [
    "## Clean Data\n",
    "# remove special character and unneeded commas\n",
    "df.columns=df.columns.str.replace('[#,@,&]','')\n",
    "#To remove white space from columns\n",
    "df.columns = df.columns.str.replace(' ', '')"
   ]
  },
  {
   "cell_type": "code",
   "execution_count": 14,
   "id": "c6eb5d16",
   "metadata": {},
   "outputs": [
    {
     "name": "stdout",
     "output_type": "stream",
     "text": [
      "Number of rows:  15000000\n",
      "Number of columns:  21\n"
     ]
    }
   ],
   "source": [
    "# Number of rows and columns\n",
    "row_num = len(df.index)\n",
    "print(\"Number of rows: \", row_num)\n",
    "col_num = len(df.columns)\n",
    "print(\"Number of columns: \", col_num)"
   ]
  },
  {
   "cell_type": "code",
   "execution_count": 15,
   "id": "b880a76e",
   "metadata": {},
   "outputs": [],
   "source": [
    "### Validation"
   ]
  },
  {
   "cell_type": "code",
   "execution_count": 83,
   "id": "5a83dcd7",
   "metadata": {},
   "outputs": [],
   "source": [
    "# could not write these into a magic command file for it to work\n",
    "def read_config_file(filepath):\n",
    "    with open(filepath, 'r') as stream:\n",
    "        try:\n",
    "            return yaml.safe_load(stream)\n",
    "        except yaml.YAMLError as exc:\n",
    "            logging.error(exc)\n",
    "            \n",
    "def replacer(string, char):\n",
    "    pattern = char + '{2,}'\n",
    "    string = re.sub(pattern, char, string)\n",
    "    return string\n",
    "\n",
    "def col_header_val(df, table_config):\n",
    "    # replace whitespaces in the column\n",
    "    # and standardize column names\n",
    "    \n",
    "    df.columns = df.columns.str.lower()\n",
    "    df.columns = df.columns.str.replace('[^\\w]', '_', regex = True)\n",
    "    df.columns = list(map(lambda x: x.strip('_'), list(df.columns)))\n",
    "    df.columns = list(map(lambda x: replacer(x, '_'), list(df.columns)))\n",
    "    expected_col = list(map(lambda x: x.lower(), table_config['columns']))\n",
    "    expected_col.sort()\n",
    "    df.column = list(map(lambda x: x.lower(), list(df.columns)))\n",
    "    \n",
    "    if len(df.columns) == len(expected_col) and list(expected_col) == list(df.columns):\n",
    "        print(\"column name and column length validation passed\")\n",
    "        return 1\n",
    "    else:\n",
    "        print(\"column name and column length validation failed\")\n",
    "        mismatched_columns_file = list(set(df.columns).difference(expected_col))\n",
    "        print(\"Following File columns are not in the YAML file\", mismatched_columns_file)\n",
    "        missing_YAML_file = list(set(expected_col).difference(df.columns))\n",
    "        print(\"Following YAML columns are not in the file uploaded\", missing_YAML_file)\n",
    "        logging.info(f'df columns: {df.columns}')\n",
    "        logging.info(f'expected columns: {expected_col}')\n",
    "        return 0\n",
    "\n"
   ]
  },
  {
   "cell_type": "code",
   "execution_count": 57,
   "id": "564563f1",
   "metadata": {},
   "outputs": [
    {
     "name": "stdout",
     "output_type": "stream",
     "text": [
      "Overwriting file.yaml\n"
     ]
    }
   ],
   "source": [
    "%%writefile file.yaml\n",
    "\n",
    "file_type: csv\n",
    "dataset_name: file\n",
    "file_name: reviews\n",
    "table_name: edsurv\n",
    "inbound_delimiter: \",\"\n",
    "outbound_delimiter: \"|\"\n",
    "skip_leading_rows: 1\n",
    "columns: [app_id, app_name, review_id, language, timestamp_created, timestamp_updated, recommended, \n",
    "          votes_helpful, votes_funny, weighted_vote_score, comment_count, steam_purchase, received_for_free,\n",
    "          written_during_early_access, author.steamid, author.num_games_owned, author.num_reviews, \n",
    "          author.playtime_forever, author.playtime_last_two_weeks, author.playtime_at_review, author.last_played]"
   ]
  },
  {
   "cell_type": "code",
   "execution_count": 58,
   "id": "e3f29e33",
   "metadata": {},
   "outputs": [],
   "source": [
    "def read_config_file(filepath):\n",
    "    with open(filepath, 'r') as stream:\n",
    "        try:\n",
    "            return yaml.safe_load(stream)\n",
    "        except yaml.YAMLError as exc:\n",
    "            logging.error(exc)\n",
    "            \n",
    "            \n",
    "config_data = read_config_file('/Users/Olivia/Desktop/Validation/file.yaml')"
   ]
  },
  {
   "cell_type": "code",
   "execution_count": 59,
   "id": "aee7863a",
   "metadata": {},
   "outputs": [
    {
     "data": {
      "text/plain": [
       "','"
      ]
     },
     "execution_count": 59,
     "metadata": {},
     "output_type": "execute_result"
    }
   ],
   "source": [
    "config_data['inbound_delimiter']"
   ]
  },
  {
   "cell_type": "code",
   "execution_count": 60,
   "id": "756753af",
   "metadata": {},
   "outputs": [
    {
     "data": {
      "text/plain": [
       "{'file_type': 'csv',\n",
       " 'dataset_name': 'file',\n",
       " 'file_name': 'reviews',\n",
       " 'table_name': 'edsurv',\n",
       " 'inbound_delimiter': ',',\n",
       " 'outbound_delimiter': '|',\n",
       " 'skip_leading_rows': 1,\n",
       " 'columns': ['app_id',\n",
       "  'app_name',\n",
       "  'review_id',\n",
       "  'language',\n",
       "  'timestamp_created',\n",
       "  'timestamp_updated',\n",
       "  'recommended',\n",
       "  'votes_helpful',\n",
       "  'votes_funny',\n",
       "  'weighted_vote_score',\n",
       "  'comment_count',\n",
       "  'steam_purchase',\n",
       "  'received_for_free',\n",
       "  'written_during_early_access',\n",
       "  'author.steamid',\n",
       "  'author.num_games_owned',\n",
       "  'author.num_reviews',\n",
       "  'author.playtime_forever',\n",
       "  'author.playtime_last_two_weeks',\n",
       "  'author.playtime_at_review',\n",
       "  'author.last_played']}"
      ]
     },
     "execution_count": 60,
     "metadata": {},
     "output_type": "execute_result"
    }
   ],
   "source": [
    "config_data"
   ]
  },
  {
   "cell_type": "code",
   "execution_count": 26,
   "id": "ba0b6cc1",
   "metadata": {
    "scrolled": true
   },
   "outputs": [
    {
     "data": {
      "text/html": [
       "<div>\n",
       "<style scoped>\n",
       "    .dataframe tbody tr th:only-of-type {\n",
       "        vertical-align: middle;\n",
       "    }\n",
       "\n",
       "    .dataframe tbody tr th {\n",
       "        vertical-align: top;\n",
       "    }\n",
       "\n",
       "    .dataframe thead th {\n",
       "        text-align: right;\n",
       "    }\n",
       "</style>\n",
       "<table border=\"1\" class=\"dataframe\">\n",
       "  <thead>\n",
       "    <tr style=\"text-align: right;\">\n",
       "      <th></th>\n",
       "      <th>app_id</th>\n",
       "      <th>app_name</th>\n",
       "      <th>review_id</th>\n",
       "      <th>language</th>\n",
       "      <th>timestamp_created</th>\n",
       "      <th>timestamp_updated</th>\n",
       "      <th>recommended</th>\n",
       "      <th>votes_helpful</th>\n",
       "      <th>votes_funny</th>\n",
       "      <th>weighted_vote_score</th>\n",
       "      <th>...</th>\n",
       "      <th>steam_purchase</th>\n",
       "      <th>received_for_free</th>\n",
       "      <th>written_during_early_access</th>\n",
       "      <th>author.steamid</th>\n",
       "      <th>author.num_games_owned</th>\n",
       "      <th>author.num_reviews</th>\n",
       "      <th>author.playtime_forever</th>\n",
       "      <th>author.playtime_last_two_weeks</th>\n",
       "      <th>author.playtime_at_review</th>\n",
       "      <th>author.last_played</th>\n",
       "    </tr>\n",
       "  </thead>\n",
       "  <tbody>\n",
       "    <tr>\n",
       "      <th>0</th>\n",
       "      <td>292030</td>\n",
       "      <td>The Witcher 3: Wild Hunt</td>\n",
       "      <td>85185598</td>\n",
       "      <td>schinese</td>\n",
       "      <td>1611381629</td>\n",
       "      <td>1611381629</td>\n",
       "      <td>True</td>\n",
       "      <td>0</td>\n",
       "      <td>0</td>\n",
       "      <td>0.0</td>\n",
       "      <td>...</td>\n",
       "      <td>True</td>\n",
       "      <td>False</td>\n",
       "      <td>False</td>\n",
       "      <td>76561199095369542</td>\n",
       "      <td>6</td>\n",
       "      <td>2</td>\n",
       "      <td>1909.0</td>\n",
       "      <td>1448.0</td>\n",
       "      <td>1909.0</td>\n",
       "      <td>1.611343e+09</td>\n",
       "    </tr>\n",
       "    <tr>\n",
       "      <th>1</th>\n",
       "      <td>292030</td>\n",
       "      <td>The Witcher 3: Wild Hunt</td>\n",
       "      <td>85185250</td>\n",
       "      <td>schinese</td>\n",
       "      <td>1611381030</td>\n",
       "      <td>1611381030</td>\n",
       "      <td>True</td>\n",
       "      <td>0</td>\n",
       "      <td>0</td>\n",
       "      <td>0.0</td>\n",
       "      <td>...</td>\n",
       "      <td>True</td>\n",
       "      <td>False</td>\n",
       "      <td>False</td>\n",
       "      <td>76561198949504115</td>\n",
       "      <td>30</td>\n",
       "      <td>10</td>\n",
       "      <td>2764.0</td>\n",
       "      <td>2743.0</td>\n",
       "      <td>2674.0</td>\n",
       "      <td>1.611386e+09</td>\n",
       "    </tr>\n",
       "    <tr>\n",
       "      <th>2</th>\n",
       "      <td>292030</td>\n",
       "      <td>The Witcher 3: Wild Hunt</td>\n",
       "      <td>85185111</td>\n",
       "      <td>schinese</td>\n",
       "      <td>1611380800</td>\n",
       "      <td>1611380800</td>\n",
       "      <td>True</td>\n",
       "      <td>0</td>\n",
       "      <td>0</td>\n",
       "      <td>0.0</td>\n",
       "      <td>...</td>\n",
       "      <td>True</td>\n",
       "      <td>False</td>\n",
       "      <td>False</td>\n",
       "      <td>76561199090098988</td>\n",
       "      <td>5</td>\n",
       "      <td>1</td>\n",
       "      <td>1061.0</td>\n",
       "      <td>1061.0</td>\n",
       "      <td>1060.0</td>\n",
       "      <td>1.611384e+09</td>\n",
       "    </tr>\n",
       "    <tr>\n",
       "      <th>3</th>\n",
       "      <td>292030</td>\n",
       "      <td>The Witcher 3: Wild Hunt</td>\n",
       "      <td>85184605</td>\n",
       "      <td>english</td>\n",
       "      <td>1611379970</td>\n",
       "      <td>1611379970</td>\n",
       "      <td>True</td>\n",
       "      <td>0</td>\n",
       "      <td>0</td>\n",
       "      <td>0.0</td>\n",
       "      <td>...</td>\n",
       "      <td>True</td>\n",
       "      <td>False</td>\n",
       "      <td>False</td>\n",
       "      <td>76561199054755373</td>\n",
       "      <td>5</td>\n",
       "      <td>3</td>\n",
       "      <td>5587.0</td>\n",
       "      <td>3200.0</td>\n",
       "      <td>5524.0</td>\n",
       "      <td>1.611384e+09</td>\n",
       "    </tr>\n",
       "    <tr>\n",
       "      <th>4</th>\n",
       "      <td>292030</td>\n",
       "      <td>The Witcher 3: Wild Hunt</td>\n",
       "      <td>85184287</td>\n",
       "      <td>schinese</td>\n",
       "      <td>1611379427</td>\n",
       "      <td>1611379427</td>\n",
       "      <td>True</td>\n",
       "      <td>0</td>\n",
       "      <td>0</td>\n",
       "      <td>0.0</td>\n",
       "      <td>...</td>\n",
       "      <td>True</td>\n",
       "      <td>False</td>\n",
       "      <td>False</td>\n",
       "      <td>76561199028326951</td>\n",
       "      <td>7</td>\n",
       "      <td>4</td>\n",
       "      <td>217.0</td>\n",
       "      <td>42.0</td>\n",
       "      <td>217.0</td>\n",
       "      <td>1.610788e+09</td>\n",
       "    </tr>\n",
       "  </tbody>\n",
       "</table>\n",
       "<p>5 rows × 21 columns</p>\n",
       "</div>"
      ],
      "text/plain": [
       "   app_id                  app_name  review_id  language  timestamp_created  \\\n",
       "0  292030  The Witcher 3: Wild Hunt   85185598  schinese         1611381629   \n",
       "1  292030  The Witcher 3: Wild Hunt   85185250  schinese         1611381030   \n",
       "2  292030  The Witcher 3: Wild Hunt   85185111  schinese         1611380800   \n",
       "3  292030  The Witcher 3: Wild Hunt   85184605   english         1611379970   \n",
       "4  292030  The Witcher 3: Wild Hunt   85184287  schinese         1611379427   \n",
       "\n",
       "   timestamp_updated  recommended  votes_helpful  votes_funny  \\\n",
       "0         1611381629         True              0            0   \n",
       "1         1611381030         True              0            0   \n",
       "2         1611380800         True              0            0   \n",
       "3         1611379970         True              0            0   \n",
       "4         1611379427         True              0            0   \n",
       "\n",
       "   weighted_vote_score  ...  steam_purchase  received_for_free  \\\n",
       "0                  0.0  ...            True              False   \n",
       "1                  0.0  ...            True              False   \n",
       "2                  0.0  ...            True              False   \n",
       "3                  0.0  ...            True              False   \n",
       "4                  0.0  ...            True              False   \n",
       "\n",
       "   written_during_early_access     author.steamid  author.num_games_owned  \\\n",
       "0                        False  76561199095369542                       6   \n",
       "1                        False  76561198949504115                      30   \n",
       "2                        False  76561199090098988                       5   \n",
       "3                        False  76561199054755373                       5   \n",
       "4                        False  76561199028326951                       7   \n",
       "\n",
       "   author.num_reviews  author.playtime_forever  \\\n",
       "0                   2                   1909.0   \n",
       "1                  10                   2764.0   \n",
       "2                   1                   1061.0   \n",
       "3                   3                   5587.0   \n",
       "4                   4                    217.0   \n",
       "\n",
       "   author.playtime_last_two_weeks  author.playtime_at_review  \\\n",
       "0                          1448.0                     1909.0   \n",
       "1                          2743.0                     2674.0   \n",
       "2                          1061.0                     1060.0   \n",
       "3                          3200.0                     5524.0   \n",
       "4                            42.0                      217.0   \n",
       "\n",
       "   author.last_played  \n",
       "0        1.611343e+09  \n",
       "1        1.611386e+09  \n",
       "2        1.611384e+09  \n",
       "3        1.611384e+09  \n",
       "4        1.610788e+09  \n",
       "\n",
       "[5 rows x 21 columns]"
      ]
     },
     "execution_count": 26,
     "metadata": {},
     "output_type": "execute_result"
    }
   ],
   "source": [
    "df_sample = pd.read_csv(\"/Users/Olivia/Desktop/Week6/reviews.csv\", delimiter = ',')\n",
    "df_sample.head()"
   ]
  },
  {
   "cell_type": "code",
   "execution_count": 86,
   "id": "fac1ae03",
   "metadata": {},
   "outputs": [
    {
     "name": "stderr",
     "output_type": "stream",
     "text": [
      "FutureWarning: In a future version of pandas all arguments of read_csv except for the argument 'filepath_or_buffer' will be keyword-only.\n"
     ]
    },
    {
     "data": {
      "text/html": [
       "<div>\n",
       "<style scoped>\n",
       "    .dataframe tbody tr th:only-of-type {\n",
       "        vertical-align: middle;\n",
       "    }\n",
       "\n",
       "    .dataframe tbody tr th {\n",
       "        vertical-align: top;\n",
       "    }\n",
       "\n",
       "    .dataframe thead th {\n",
       "        text-align: right;\n",
       "    }\n",
       "</style>\n",
       "<table border=\"1\" class=\"dataframe\">\n",
       "  <thead>\n",
       "    <tr style=\"text-align: right;\">\n",
       "      <th></th>\n",
       "      <th>app_id</th>\n",
       "      <th>app_name</th>\n",
       "      <th>review_id</th>\n",
       "      <th>language</th>\n",
       "      <th>timestamp_created</th>\n",
       "      <th>timestamp_updated</th>\n",
       "      <th>recommended</th>\n",
       "      <th>votes_helpful</th>\n",
       "      <th>votes_funny</th>\n",
       "      <th>weighted_vote_score</th>\n",
       "      <th>...</th>\n",
       "      <th>steam_purchase</th>\n",
       "      <th>received_for_free</th>\n",
       "      <th>written_during_early_access</th>\n",
       "      <th>author.steamid</th>\n",
       "      <th>author.num_games_owned</th>\n",
       "      <th>author.num_reviews</th>\n",
       "      <th>author.playtime_forever</th>\n",
       "      <th>author.playtime_last_two_weeks</th>\n",
       "      <th>author.playtime_at_review</th>\n",
       "      <th>author.last_played</th>\n",
       "    </tr>\n",
       "  </thead>\n",
       "  <tbody>\n",
       "    <tr>\n",
       "      <th>0</th>\n",
       "      <td>292030</td>\n",
       "      <td>The Witcher 3: Wild Hunt</td>\n",
       "      <td>85185598</td>\n",
       "      <td>schinese</td>\n",
       "      <td>1611381629</td>\n",
       "      <td>1611381629</td>\n",
       "      <td>True</td>\n",
       "      <td>0</td>\n",
       "      <td>0</td>\n",
       "      <td>0.0</td>\n",
       "      <td>...</td>\n",
       "      <td>True</td>\n",
       "      <td>False</td>\n",
       "      <td>False</td>\n",
       "      <td>76561199095369542</td>\n",
       "      <td>6</td>\n",
       "      <td>2</td>\n",
       "      <td>1909.0</td>\n",
       "      <td>1448.0</td>\n",
       "      <td>1909.0</td>\n",
       "      <td>1.611343e+09</td>\n",
       "    </tr>\n",
       "    <tr>\n",
       "      <th>1</th>\n",
       "      <td>292030</td>\n",
       "      <td>The Witcher 3: Wild Hunt</td>\n",
       "      <td>85185250</td>\n",
       "      <td>schinese</td>\n",
       "      <td>1611381030</td>\n",
       "      <td>1611381030</td>\n",
       "      <td>True</td>\n",
       "      <td>0</td>\n",
       "      <td>0</td>\n",
       "      <td>0.0</td>\n",
       "      <td>...</td>\n",
       "      <td>True</td>\n",
       "      <td>False</td>\n",
       "      <td>False</td>\n",
       "      <td>76561198949504115</td>\n",
       "      <td>30</td>\n",
       "      <td>10</td>\n",
       "      <td>2764.0</td>\n",
       "      <td>2743.0</td>\n",
       "      <td>2674.0</td>\n",
       "      <td>1.611386e+09</td>\n",
       "    </tr>\n",
       "    <tr>\n",
       "      <th>2</th>\n",
       "      <td>292030</td>\n",
       "      <td>The Witcher 3: Wild Hunt</td>\n",
       "      <td>85185111</td>\n",
       "      <td>schinese</td>\n",
       "      <td>1611380800</td>\n",
       "      <td>1611380800</td>\n",
       "      <td>True</td>\n",
       "      <td>0</td>\n",
       "      <td>0</td>\n",
       "      <td>0.0</td>\n",
       "      <td>...</td>\n",
       "      <td>True</td>\n",
       "      <td>False</td>\n",
       "      <td>False</td>\n",
       "      <td>76561199090098988</td>\n",
       "      <td>5</td>\n",
       "      <td>1</td>\n",
       "      <td>1061.0</td>\n",
       "      <td>1061.0</td>\n",
       "      <td>1060.0</td>\n",
       "      <td>1.611384e+09</td>\n",
       "    </tr>\n",
       "    <tr>\n",
       "      <th>3</th>\n",
       "      <td>292030</td>\n",
       "      <td>The Witcher 3: Wild Hunt</td>\n",
       "      <td>85184605</td>\n",
       "      <td>english</td>\n",
       "      <td>1611379970</td>\n",
       "      <td>1611379970</td>\n",
       "      <td>True</td>\n",
       "      <td>0</td>\n",
       "      <td>0</td>\n",
       "      <td>0.0</td>\n",
       "      <td>...</td>\n",
       "      <td>True</td>\n",
       "      <td>False</td>\n",
       "      <td>False</td>\n",
       "      <td>76561199054755373</td>\n",
       "      <td>5</td>\n",
       "      <td>3</td>\n",
       "      <td>5587.0</td>\n",
       "      <td>3200.0</td>\n",
       "      <td>5524.0</td>\n",
       "      <td>1.611384e+09</td>\n",
       "    </tr>\n",
       "    <tr>\n",
       "      <th>4</th>\n",
       "      <td>292030</td>\n",
       "      <td>The Witcher 3: Wild Hunt</td>\n",
       "      <td>85184287</td>\n",
       "      <td>schinese</td>\n",
       "      <td>1611379427</td>\n",
       "      <td>1611379427</td>\n",
       "      <td>True</td>\n",
       "      <td>0</td>\n",
       "      <td>0</td>\n",
       "      <td>0.0</td>\n",
       "      <td>...</td>\n",
       "      <td>True</td>\n",
       "      <td>False</td>\n",
       "      <td>False</td>\n",
       "      <td>76561199028326951</td>\n",
       "      <td>7</td>\n",
       "      <td>4</td>\n",
       "      <td>217.0</td>\n",
       "      <td>42.0</td>\n",
       "      <td>217.0</td>\n",
       "      <td>1.610788e+09</td>\n",
       "    </tr>\n",
       "  </tbody>\n",
       "</table>\n",
       "<p>5 rows × 21 columns</p>\n",
       "</div>"
      ],
      "text/plain": [
       "   app_id                  app_name  review_id  language  timestamp_created  \\\n",
       "0  292030  The Witcher 3: Wild Hunt   85185598  schinese         1611381629   \n",
       "1  292030  The Witcher 3: Wild Hunt   85185250  schinese         1611381030   \n",
       "2  292030  The Witcher 3: Wild Hunt   85185111  schinese         1611380800   \n",
       "3  292030  The Witcher 3: Wild Hunt   85184605   english         1611379970   \n",
       "4  292030  The Witcher 3: Wild Hunt   85184287  schinese         1611379427   \n",
       "\n",
       "   timestamp_updated  recommended  votes_helpful  votes_funny  \\\n",
       "0         1611381629         True              0            0   \n",
       "1         1611381030         True              0            0   \n",
       "2         1611380800         True              0            0   \n",
       "3         1611379970         True              0            0   \n",
       "4         1611379427         True              0            0   \n",
       "\n",
       "   weighted_vote_score  ...  steam_purchase  received_for_free  \\\n",
       "0                  0.0  ...            True              False   \n",
       "1                  0.0  ...            True              False   \n",
       "2                  0.0  ...            True              False   \n",
       "3                  0.0  ...            True              False   \n",
       "4                  0.0  ...            True              False   \n",
       "\n",
       "   written_during_early_access     author.steamid  author.num_games_owned  \\\n",
       "0                        False  76561199095369542                       6   \n",
       "1                        False  76561198949504115                      30   \n",
       "2                        False  76561199090098988                       5   \n",
       "3                        False  76561199054755373                       5   \n",
       "4                        False  76561199028326951                       7   \n",
       "\n",
       "   author.num_reviews  author.playtime_forever  \\\n",
       "0                   2                   1909.0   \n",
       "1                  10                   2764.0   \n",
       "2                   1                   1061.0   \n",
       "3                   3                   5587.0   \n",
       "4                   4                    217.0   \n",
       "\n",
       "   author.playtime_last_two_weeks  author.playtime_at_review  \\\n",
       "0                          1448.0                     1909.0   \n",
       "1                          2743.0                     2674.0   \n",
       "2                          1061.0                     1060.0   \n",
       "3                          3200.0                     5524.0   \n",
       "4                            42.0                      217.0   \n",
       "\n",
       "   author.last_played  \n",
       "0        1.611343e+09  \n",
       "1        1.611386e+09  \n",
       "2        1.611384e+09  \n",
       "3        1.611384e+09  \n",
       "4        1.610788e+09  \n",
       "\n",
       "[5 rows x 21 columns]"
      ]
     },
     "execution_count": 86,
     "metadata": {},
     "output_type": "execute_result"
    }
   ],
   "source": [
    "file_type = config_data['file_type']\n",
    "source_file = \"./\" + config_data['file_name'] + f'.{file_type}'\n",
    "#print(\"\", source_file)\n",
    "df = pd.read_csv(source_file, config_data['inbound_delimiter'])\n",
    "df.head()"
   ]
  },
  {
   "cell_type": "code",
   "execution_count": 87,
   "id": "1f0c5832",
   "metadata": {},
   "outputs": [
    {
     "name": "stdout",
     "output_type": "stream",
     "text": [
      "column name and column length validation failed\n",
      "Following File columns are not in the YAML file ['author_playtime_last_two_weeks', 'author_playtime_forever', 'author_num_games_owned', 'author_steamid', 'author_last_played', 'author_num_reviews', 'author_playtime_at_review']\n",
      "Following YAML columns are not in the file uploaded ['author.playtime_last_two_weeks', 'author.num_games_owned', 'author.num_reviews', 'author.playtime_forever', 'author.playtime_at_review', 'author.last_played', 'author.steamid']\n"
     ]
    },
    {
     "name": "stderr",
     "output_type": "stream",
     "text": [
      "UserWarning: Pandas doesn't allow columns to be created via a new attribute name - see https://pandas.pydata.org/pandas-docs/stable/indexing.html#attribute-access\n"
     ]
    },
    {
     "data": {
      "text/plain": [
       "0"
      ]
     },
     "execution_count": 87,
     "metadata": {},
     "output_type": "execute_result"
    }
   ],
   "source": [
    "#validate the header of the file\n",
    "\n",
    "col_header_val(df, config_data)"
   ]
  },
  {
   "cell_type": "code",
   "execution_count": 88,
   "id": "e6cdaba4",
   "metadata": {},
   "outputs": [
    {
     "name": "stdout",
     "output_type": "stream",
     "text": [
      "columns of files are:  Index(['app_id', 'app_name', 'review_id', 'language', 'timestamp_created',\n",
      "       'timestamp_updated', 'recommended', 'votes_helpful', 'votes_funny',\n",
      "       'weighted_vote_score', 'comment_count', 'steam_purchase',\n",
      "       'received_for_free', 'written_during_early_access', 'author_steamid',\n",
      "       'author_num_games_owned', 'author_num_reviews',\n",
      "       'author_playtime_forever', 'author_playtime_last_two_weeks',\n",
      "       'author_playtime_at_review', 'author_last_played'],\n",
      "      dtype='object')\n",
      "columns of YAML are:  ['app_id', 'app_name', 'review_id', 'language', 'timestamp_created', 'timestamp_updated', 'recommended', 'votes_helpful', 'votes_funny', 'weighted_vote_score', 'comment_count', 'steam_purchase', 'received_for_free', 'written_during_early_access', 'author.steamid', 'author.num_games_owned', 'author.num_reviews', 'author.playtime_forever', 'author.playtime_last_two_weeks', 'author.playtime_at_review', 'author.last_played']\n"
     ]
    }
   ],
   "source": [
    "print(\"columns of files are: \", df.columns)\n",
    "\n",
    "print(\"columns of YAML are: \", config_data['columns'])"
   ]
  },
  {
   "cell_type": "code",
   "execution_count": 89,
   "id": "165de086",
   "metadata": {},
   "outputs": [
    {
     "name": "stdout",
     "output_type": "stream",
     "text": [
      "column name and column length validation failed\n",
      "Following File columns are not in the YAML file ['author_playtime_last_two_weeks', 'author_playtime_forever', 'author_num_games_owned', 'author_steamid', 'author_last_played', 'author_num_reviews', 'author_playtime_at_review']\n",
      "Following YAML columns are not in the file uploaded ['author.playtime_last_two_weeks', 'author.num_games_owned', 'author.num_reviews', 'author.playtime_forever', 'author.playtime_at_review', 'author.last_played', 'author.steamid']\n",
      "validation failed\n"
     ]
    }
   ],
   "source": [
    "if col_header_val(df, config_data) == 0:\n",
    "    print(\"validation failed\")\n",
    "else:\n",
    "    print(\"col validation passed\")"
   ]
  }
 ],
 "metadata": {
  "kernelspec": {
   "display_name": "Python 3 (ipykernel)",
   "language": "python",
   "name": "python3"
  },
  "language_info": {
   "codemirror_mode": {
    "name": "ipython",
    "version": 3
   },
   "file_extension": ".py",
   "mimetype": "text/x-python",
   "name": "python",
   "nbconvert_exporter": "python",
   "pygments_lexer": "ipython3",
   "version": "3.9.13"
  }
 },
 "nbformat": 4,
 "nbformat_minor": 5
}
